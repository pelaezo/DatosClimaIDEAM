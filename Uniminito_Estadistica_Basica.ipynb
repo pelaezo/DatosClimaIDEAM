{
  "cells": [
    {
      "cell_type": "markdown",
      "metadata": {
        "id": "view-in-github",
        "colab_type": "text"
      },
      "source": [
        "<a href=\"https://colab.research.google.com/github/pelaezo/DatosClimaIDEAM/blob/main/Uniminito_Estadistica_Basica.ipynb\" target=\"_parent\"><img src=\"https://colab.research.google.com/assets/colab-badge.svg\" alt=\"Open In Colab\"/></a>"
      ]
    },
    {
      "cell_type": "markdown",
      "metadata": {
        "id": "twblPUOj21gr"
      },
      "source": [
        "# **Actividad: Estadística aplicada con Python**\n",
        "\n",
        "Maestria en Cambio climatico y Desarrollo Sostenible\n",
        "\n",
        "Principios de Modelación y Simulación - PMS\n",
        "\n",
        "Omar Pelaez-Martinez"
      ]
    },
    {
      "cell_type": "markdown",
      "metadata": {
        "id": "HPrRidw-3bg2"
      },
      "source": [
        "# **Elementos Basicos I - PYTHON**\n",
        "\n",
        "# 1.   Definicion de variables  \n",
        "\n",
        "**PD:** una variable es simplemente un nombre que se utiliza para hacer referencia a un objeto en memoria."
      ]
    },
    {
      "cell_type": "code",
      "execution_count": null,
      "metadata": {
        "id": "GQfTXitR5E0U"
      },
      "outputs": [],
      "source": [
        "a = 1 # Estamos creando la variable \"a\" y le estamos dando el valor de numerico de \"1\"\n",
        "b = 2"
      ]
    },
    {
      "cell_type": "markdown",
      "metadata": {
        "id": "G_YgwUf556MI"
      },
      "source": [
        "# 2.   Consulta de Variables\n",
        "\n",
        "**PD:** la consulta permiten hacer referencia a los datos"
      ]
    },
    {
      "cell_type": "code",
      "source": [
        "a"
      ],
      "metadata": {
        "id": "fjgqXMbEdBn9",
        "colab": {
          "base_uri": "https://localhost:8080/"
        },
        "outputId": "9df1c274-bef9-441d-c3f6-bc765fd88631"
      },
      "execution_count": null,
      "outputs": [
        {
          "output_type": "execute_result",
          "data": {
            "text/plain": [
              "1"
            ]
          },
          "metadata": {},
          "execution_count": 2
        }
      ]
    },
    {
      "cell_type": "code",
      "source": [
        "b"
      ],
      "metadata": {
        "colab": {
          "base_uri": "https://localhost:8080/"
        },
        "id": "ma-yJ98sG7sN",
        "outputId": "3c71cc0c-8388-4728-a6b7-e5b6f6b3ccdf"
      },
      "execution_count": null,
      "outputs": [
        {
          "output_type": "execute_result",
          "data": {
            "text/plain": [
              "2"
            ]
          },
          "metadata": {},
          "execution_count": 3
        }
      ]
    },
    {
      "cell_type": "markdown",
      "metadata": {
        "id": "jU8tcqKp5XV6"
      },
      "source": [
        "\n",
        "# 3.   Definicion de Operadores\n",
        "\n",
        "**PD:** los operadores son símbolos o palabras que se utilizan para realizar operaciones con determinados valores o variables."
      ]
    },
    {
      "cell_type": "code",
      "execution_count": null,
      "metadata": {
        "id": "xcXeeZnV5h7E"
      },
      "outputs": [],
      "source": [
        "c = a + b # se esta operando (sumando) las variables \"a\" y \"b\""
      ]
    },
    {
      "cell_type": "code",
      "execution_count": null,
      "metadata": {
        "colab": {
          "base_uri": "https://localhost:8080/"
        },
        "id": "HlAkNZa8FfXQ",
        "outputId": "e1c7ab71-ae24-4949-be22-230ce8112864"
      },
      "outputs": [
        {
          "output_type": "execute_result",
          "data": {
            "text/plain": [
              "3"
            ]
          },
          "metadata": {},
          "execution_count": 5
        }
      ],
      "source": [
        "c"
      ]
    },
    {
      "cell_type": "markdown",
      "metadata": {
        "id": "G_E4QeQAmQh7"
      },
      "source": [
        "**3.1. Operaciones aritméticas en Python**\n",
        "*   adición a+b\n",
        "*   substracción a-b\n",
        "*   multiplicacón a*b\n",
        "*   división a/b\n",
        "*   exponenciación a**b"
      ]
    },
    {
      "cell_type": "code",
      "execution_count": null,
      "metadata": {
        "id": "TMLNznKBnJgI"
      },
      "outputs": [],
      "source": [
        "su = a + b\n",
        "re = a - b\n",
        "mu = a * b\n",
        "di = a / b\n",
        "ex = a ** b"
      ]
    },
    {
      "cell_type": "code",
      "source": [
        "# recupera el resultado de las aperaciones anteriores\n",
        "\n",
        "mu"
      ],
      "metadata": {
        "id": "uGEPw5TNdJCD",
        "colab": {
          "base_uri": "https://localhost:8080/"
        },
        "outputId": "8b42fec8-90fd-4c0e-cbec-9cbfd1879ca2"
      },
      "execution_count": null,
      "outputs": [
        {
          "output_type": "execute_result",
          "data": {
            "text/plain": [
              "2"
            ]
          },
          "metadata": {},
          "execution_count": 7
        }
      ]
    },
    {
      "cell_type": "code",
      "source": [
        "# se utiliza la función print(), para imprimir el resultado de las aperaciones anteriores\n",
        "\n",
        "print(su)\n",
        "print(re)\n",
        "print(mu)\n",
        "print(di)\n",
        "print(ex)"
      ],
      "metadata": {
        "colab": {
          "base_uri": "https://localhost:8080/"
        },
        "id": "_x_Rm2n3HCSF",
        "outputId": "5b2b01c6-189e-4b4d-a6a5-d1f490bd0795"
      },
      "execution_count": null,
      "outputs": [
        {
          "output_type": "stream",
          "name": "stdout",
          "text": [
            "3\n",
            "-1\n",
            "2\n",
            "0.5\n",
            "1\n"
          ]
        }
      ]
    },
    {
      "cell_type": "code",
      "source": [
        "# se utiliza parametros de la función print(), para modificar la imprimición de los resultados anteriores\n",
        "\n",
        "print(\"El resultado de la suma es:\",su)\n",
        "print(\"El resultado de la resta es:\",re)\n",
        "print(\"El resultado de la multiplicación es:\",mu)\n",
        "print(\"El resultado de la división es:\",di)\n",
        "print(\"El resultado del exponente es:\",ex)"
      ],
      "metadata": {
        "colab": {
          "base_uri": "https://localhost:8080/"
        },
        "id": "7MG6xu5UHg8h",
        "outputId": "739bfac5-834e-4a2a-84b1-b611c830fb4c"
      },
      "execution_count": null,
      "outputs": [
        {
          "output_type": "stream",
          "name": "stdout",
          "text": [
            "El resultado de la suma es: 3\n",
            "El resultado de la resta es: -1\n",
            "El resultado de la multiplicación es: 2\n",
            "El resultado de la división es: 0.5\n",
            "El resultado del exponente es: 1\n"
          ]
        }
      ]
    },
    {
      "cell_type": "markdown",
      "metadata": {
        "id": "7DjWHAHqITso"
      },
      "source": [
        "# 4.   Definición de funciones\n",
        "\n",
        "**PD:** Es un bloque de líneas de código o un conjunto de instrucciones cuya finalidad es realizar una tarea específica.\n"
      ]
    },
    {
      "cell_type": "code",
      "execution_count": null,
      "metadata": {
        "id": "qoHWvoE5IGn7"
      },
      "outputs": [],
      "source": [
        "#Funcion que permite calcular el Cuadrado de un numero.\n",
        "def cuadrado(numero):\n",
        "    return numero*numero"
      ]
    },
    {
      "cell_type": "code",
      "execution_count": null,
      "metadata": {
        "colab": {
          "base_uri": "https://localhost:8080/"
        },
        "id": "jICy2z5jI_Yo",
        "outputId": "45c75757-3704-4b37-9d2d-8f96b22e10c6"
      },
      "outputs": [
        {
          "output_type": "execute_result",
          "data": {
            "text/plain": [
              "9"
            ]
          },
          "metadata": {},
          "execution_count": 13
        }
      ],
      "source": [
        "cuadrado(3) #Llamamos a la funcion creada en la celda anterior."
      ]
    },
    {
      "cell_type": "code",
      "source": [
        "#Funcion que permite calcular la suma de dos numero.\n",
        "def sumar(numero1, numero2):\n",
        "    return numero1+numero2"
      ],
      "metadata": {
        "id": "lVO1ZMIWmMlv"
      },
      "execution_count": null,
      "outputs": []
    },
    {
      "cell_type": "code",
      "source": [
        "sumar(5, 2)"
      ],
      "metadata": {
        "id": "J9GZ81qimf7D",
        "colab": {
          "base_uri": "https://localhost:8080/"
        },
        "outputId": "876775e8-73e7-4143-89ef-fbebd99734c4"
      },
      "execution_count": null,
      "outputs": [
        {
          "output_type": "execute_result",
          "data": {
            "text/plain": [
              "7"
            ]
          },
          "metadata": {},
          "execution_count": 15
        }
      ]
    },
    {
      "cell_type": "markdown",
      "source": [
        "# **Elementos Basicos II - ¿Qué es la estadística descriptiva?**\n",
        "\n",
        "Es la parte de la estadística que hace referencia al análisis, el resumen y la presentación de los resultados relacionados con un conjunto de datos derivados de una muestra o de toda la población.\n",
        "\n",
        "La estadística descriptiva comprende tres categorías principales:\n",
        "*   distribución de frecuencias,\n",
        "*   medidas de tendencia central, y\n",
        "*   medidas de variabilidad."
      ],
      "metadata": {
        "id": "g8S9GYCVHBX-"
      }
    },
    {
      "cell_type": "markdown",
      "source": [
        "## **2.1. Tendencia central**\n",
        "\n",
        "Las medidas de tendencia central se refiere al resumen descriptivo de un conjunto de datos utilizando un único valor que refleja el centro de la distribución de los datos.\n",
        "\n",
        "Las medidas de tendencia de tendencia central son:\n",
        "\n",
        "*   Media aritmética\n",
        "*   Media ponderada\n",
        "*   Media geométrica\n",
        "*   Media armónica\n",
        "*   Mediana\n",
        "*   Moda"
      ],
      "metadata": {
        "id": "ErwWO8vIHmQZ"
      }
    },
    {
      "cell_type": "markdown",
      "source": [
        "*   La **media aritmética**, tambien se conoce como: promedio o media, simplemente.\n",
        "\n",
        "![media aritmetica.svg](data:image/svg+xml;base64,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)"
      ],
      "metadata": {
        "id": "4Y45g7zMIfzH"
      }
    },
    {
      "cell_type": "markdown",
      "source": [
        "*   La **media aritmética ponderada**, otorgar pesos o valores a los datos dependiendo de su relevancia para determinado estudio. En esos casos se puede utilizar una media ponderada.\n",
        "\n",
        "![Media ponderada.svg](data:image/svg+xml;base64,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)\n"
      ],
      "metadata": {
        "id": "FYXsC3DBLLnw"
      }
    },
    {
      "cell_type": "markdown",
      "source": [
        "*   La **media geométrica**, es la raíz `n-ésima` del producto de todos los números; es recomendada para datos de progresión geométrica.\n",
        "\n",
        "![media geometrica.svg](data:image/svg+xml;base64,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)"
      ],
      "metadata": {
        "id": "ybAMA4HJLrP5"
      }
    },
    {
      "cell_type": "markdown",
      "source": [
        "*    La **mediana**, representa el valor de la variable de posición central en un conjunto de datos ordenados.\n",
        "\n",
        "\n",
        "    *   Mediana de un conjunto de datos pares (doce datos)\n",
        "\n",
        "\n",
        "![mediana_par.svg](data:image/svg+xml;base64,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)\n",
        "\n",
        "    *   Mediana de un conjunto de datos impares (once datos)\n",
        "\n",
        "![mediana_impar.svg](data:image/svg+xml;base64,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)\n",
        "\n"
      ],
      "metadata": {
        "id": "oHAxtxl7NM_O"
      }
    },
    {
      "cell_type": "markdown",
      "source": [
        "*   La **moda** es el valor que aparece con mayor frecuencia en un conjunto de datos.\n",
        "\n",
        "![moda.png](data:image/png;base64,iVBORw0KGgoAAAANSUhEUgAAAPAAAAA2CAYAAAD55BQ7AAAAAXNSR0IArs4c6QAAAARnQU1BAACxjwv8YQUAAAAJcEhZcwAADsQAAA7EAZUrDhsAABTRSURBVHhe7Z11jB1FHMenLS7FtTjFHUKQUAhFG1I0JVggRQL9g+KQoMWCFkoCJZASXAIluAQOdynuVtyd4vKYz4/7Lr9ud9+91/f23d27/SRzMzv6m9nxmX3XrxIJJSUlvZL+nXpJSUkvpGzAJSW9mLIBl5T0YsoGXFLSiykbcBuifcl//vnHzK3cpyQtpSvS6bdSnnanbMBtBo2jX79+1og8vmHJXAS+cZKG0vnzzz9N5xn59FzSGOUxUpuhBkojAXT/LLLsmgENtH///omeTofnv/76K8wwwwyFpN/XKBtwm6HXqYaDTkP67LPPws033xzefvvtsNxyy4U999wzzD777Oa3mZCe0oTffvst3HvvvWHSpEnhyy+/DIceemgYPHhw0sBLGqMswTZDo5pGP/T3338/bLfddmH55ZcPI0eODPPMM0+YaaaZzF8RIAMNFHX66aeHjo6OsMcee4SNN9446TTK0bc5lCNwH4DGM3DgwDB+/PhOm/+nurx+jdS1NKqu/Kk64ee+++4Le+21V3j00UfDUkstZfai1vTS1Ctvu1OOwG2IGhHT5nPOOSdcffXV9nzjjTeaHWj6il/5B42cspcZvN+0WboUaY0dO9bsH3roofD444+bWe71gAxiesK3M2UDbjN8ZYcBAwaEQYMGhfXWW2+qabMaghoyoxlhefZ2mDXS6VlmgZm45P7333+HueeeO3z99ddhp512CgsuuGASTun68F2BX3Uk9YTrC5RT6DaDiq5Kjn7XXXeF0047Ldxyyy229tXrzmoI09NAfHyYUTTWn3/+Oaywwgrh8ssvD5tttpn58e7qLGpF6YDiKCkbcFvCK1UlP/7448N7770XrrjiCnOjoXGM88EHH4RFFlnENpXwqwaIft1114WXX37Z/Ocx44wzhiOOOCLZlEo3yNdeey2sssoq4dVXXw0rr7xyErem8KRdKwoLSsfb9WXKbqzNoGKjqOSMgjTetdde256p8KivvvoqjB492hqx8CP3AgssEOabbz6b+i622GKmp9VCCy1kfkGNSWnD66+/bsdFaqiK++STT7Y1cT38/vvvyfpdjVfp9HUyR2Dfm3ZVULjr5UhvJap4yIHM6ZGgr+HfBxV+0UUXDXfeeWcYNmyYlQ3r0z/++MMUU+pmo/I/6KCDwjfffBMuvfRSG62R65dffrF055prruSdocssZCYelgBswqH8aA7KZ2+EPDATUtmAyiGdv2r5zKzpFJwiQiniLF1KflGthLSz9L6Kzz+bSLDSSivZe+G9MvruuuuuNhIWAWnQiF955ZWw7rrrWgUFRtHjjjsuHHjggeGLL74wOfHr35sU9ihg423MmDE2mmsTDj+trmdFwG00nw+ZVQa15DGzAfMCCKyI1Ktip4L1hYi7wL5VKP203pehDFQOzz33nOnsQvNeeE+MyEsvvbTdxiqKDz/80G5dLbPMMvaMPLPMMkvYdNNNw7fffmvTauy4YHLbbbfZKCulZ+WBDTCm87/++quN3oCb6mFvRe2EvPg2I7PaXFdk+iASNVzwEekSugpYfuVH9q2AtPUyMUv1ZXz+77jjjjBixAgbBXmXcmM9ucYaa5i5CN59911rxLq8oXS5xrnWWmuZGbsnn3wynHDCCVMpZgbsmjNiIzOK65izzjqrhROtrGdFQt1VI1Y56bkmoudpiIVmCuK6o/LSSy9VYuFXYi+Y2ItPPvkkcY/rK1OtZvLkySYDCnlKKpU4WlUGDhxYmThxYqfNf1BWsREVWk7jx4+vDBkyxMyqD1OmTDG7J554wp5rQXUtjtqVOIW2OgbYd0c9azbKn3TezaeffmpmqCWfuSOwiAUehg4dGjbYYIPw+eefm1sMZ27fffdd2GqrrcydXUeNhI2i+KXHjJieB0ceO+64Y9htt91sWlYv6fTIFzu4gJ3sRZ5dTwHZOTbi3Wy99dZmJ/kYHdm84n3pqKir8q2GyoI4GCnfeecdu/115plnmrtmZkx/H3nkETNzxbJamooTyAtLAeJFZp5xU7w9DcktPS+fuKstobPhuNFGG4Xzzz+/08d/VMsncee6qiFusskmYfHFF7cNkZ9++sns5MZ0R5sVw4cPN7vpgUwow0LP6F29LDLOumrfffcNG264Yadt1yhdFSRQKORL56ZCLwId/yj/cnwc3Q1TU7jooovsnFZyIt/6669vHR07wqyDsVP5+vzUgi874qCD58ujK6+80m5+YU+cqDnmmMN2w998803bSa6lARL3ww8/HF588cUwYcIEm4LzHEelumVtFcgsfNmmwZ//Jpp3FWdFyTm5yjaPJO5oyERDdyz0yqhRo6iZZhaPPfZYZdiwYZXYeCtx7WJ2sVBNL4JqcTN1Rr6Ojo5Om9pJx0u+R48eXRk3bpw9MxX1fjCrbDDLzZu7Gz/t8jJhn5axEbmVjuJNpyU9K125Z5HlX1QL1xOQ3OjKexbejWXFiBEjKkcffXQlzmbNjvBS1eiyG2TawpU4pslvvfWW2dFz6EjgmWeeCVtuuaXZx/jq6hmZqrKhws4jelphz60geqWs3oj04OOPPzadnr0eCE+8iicLHYPgR/4VRmbw5p6A3oNklRnl35GXuZ53B4wAxK1RxseNHWZ0pStkn4fCqMw9uKXtehKSG5A1L5/e7cgjjwwHH3yw1TV278HHkwfuuaWoyNnJZDpEI+ZWDzC93GabbZJzOY4lwL+kWvjhhx/CeeedFy688MJwySWXTKOw5xM4f2PIo/T4XI2jEh1P1AthqFSo2CvaBwDKG50VB+4o0sOP0lU4/KBkVlzdpQRm5JGc5AGdPHp5sUdXmHoUcSsNxYHu45MbZnTS93HkKcJJZsUpe++vp6l62gED1Kqrrmp7TNxuY0kKtcaTeRNLVmzlEymjMAk9+OCDdjmdzZEHHnggnHXWWbYxMXHiRNsYSSearvDejTRqEVAQT7o3Uxys5bbYYgtr7Ons4K4rhauttlqn7f+w8aJOgobLcQXnkOSH9SLnj1S41VdfPeyzzz5J/MTLZsytt95q4Xo76riKptZ0WiVPM2Gdf8ABB9hZO6iuoFN3fd0BZpYMhLfffruFoY1xyQZ/vr6zgcdZuL85l8QVDVPX+AhWJMIu5THHHBOuvfbacPfdd4czzjjDGgoVm4S33357u2fLhXkSU2NFYQY9K04PPSo3g6rB7uXCCy9sFwGEj4tp+LzzzptcF8yCTR12RikgKoaur6F4Jm9cMAB6/GuuuSYsueSStoEnO840uVTg06Z8GP1nm2028wPcrgGeMcu+KJSe8Ol6WXoiXs7ukrGZZcWGIYMbDY16Ar6+COxoL/y8EJt+O+ywg9k/++yzNnhMmTJlqo9EdtllF5tia4OWdqM6zJ9piIFMHzt2rClggyiGrey+++52Hsw5ImdzOmdUGGDjh7M7ERtJ5mKccz3i7Eppc0pxoMvMZhp+dEYIyBZHRjNLFs4hgXCSx8fjOeSQQyoTJkzofPofhcvLT0kJUD9QHtUX6iNwv4L2g059RcWB0uqyzoKJg3pL/dVmquKROXMNrB6D+TgjEfAFCrdojjrqKBsNmVZ///33ds8WFIYehIvsHMXsvffeNkKmp74QZbCrdkxRqyl6I35LCf8epcfoysjLFENccMEFycYWm2yM0Pfff789E4+mM8SheGNhmK41GumC7H04dB9WOqTj49m7NxOlge5l8ekVmX4zQDbJ32o5fZrNSJs4yAt1gzrCFJklJ1Ng1RdGTpZ03O8+9thjbeOV6TNqiSWWsHhwB/aI2Cg+7LDDkmukHmsDMdJMLrvsMnJkoxG9QGxMyShHDzF06FBz57hFvQrHOfPPP3/ij61x4oGYMdMbQXGgo0hv0KBBdpTFiElaHGkhFz2b/NLT4VfP6iEVj8BMXvwxkvyihMw+LHg/QukVRZ4sAvs8t56KZG617KrHjeDfNceu1EVupgFutCXaFPbUVZ6BUVZtiuMk2hsQlmfCUhboXuV+0E+voVbPSOnXoNoU0v1URml6lp133tkurI8aNcrst912W/s1RDZ/agFR1FN5s/U0nXg7ejhGePjxxx9NZ+0w55xz2q40MpEPRuinn356ms/YAD0WTDJLYATm0gAzDn4OBrwsKJB/wvq4+JD9+uuvt7vAL7zwgm3yaT1TBJKNd8Ian0/uWJczU0J+n7ei8eWahS9H+WMfAbnZROR9sh/BeysayovTFC6HsA7lIkU9l4A8Pl8gM5vAtBNOR/iJIWCN/cYbb1jboX2xAatRWW3K2/ODhKyReZfESfipyidaNgV6L+66au2pNXI9d1+bCb0TsEYfOXJk8gy19uq1+PPxMjNhRkDPSw/K+rxIkA+FDPTSzBx4D+k74bXmd3phxsUI0lU6cpeudSB1hPCUVxGyEidlpLgxs5fDCIgd6fs7yD0FZKJNaTYJvr5Bww2YCKk0QCWiUEiQRqOpA4VUxIvJw2cSeajYNGQqiWiWPEqL+Jgake806UJvNrqJpqWL3gcyFZ02HdXw4cOTjjsLvX8vD+EoK8qsaJSu0taGbLo+oLob/77UwTEg+IEQP5J1QFxMj7GheDphuqBNHY6UWHgzFWDayvRZUyXw5iKJ+bKpBueI/Jh5rCx2WM5Ggc4WmyUL8cSe0m6m8asRLDUmT55sm2qcoSNLLPBCzjQ5wybNU045xabsbNYxFWVjxKdXVLmTN45fmAJz2aeWb4yRhQ1QfvCdaStHLnzgz8/4IH8RIKc499xzLW3KjjrCnXCWiKrDPQHkRbH0ov4i25prrpksWXFLlkXxoSHUY/ieQ6hXa3XPph6qmkwyZ+H9VEPpoBj9KE71lNVkaBaSkRFQGx9+9JW79CIg7q5GYJA8Kg+VF5/QIbPKqyiULmlxh59NSuxUXkWnXyvpcvJgJyVZG97doNeK8ViPECM1M2DuLiQTumRKyyP3LLDPc/OoF8Sv7rCus846pit80lMWAGmQL0Z8empGf0ZE5U3ukqUIiJt0ucySB/KgQLLwhRFwSQeZKaei5FTawMUhvprix/pIUxc4SLvIcqoVZND7Y0MVM+9Q9VdyStamNOAkMvcSZPburYL0lL7X5SbVTO65555k59s3Gs6ptVOehqmnlydPMUXPg11nKqSfvhKG76LZgSffakCqyP4ZWaULmdP+gUrFdNfLd8MNN4TNN998Kjtu8IHix87DHfu4BrapPm74YSeWXWmVl08XuBvv08hSXJf15aXwev+Uy/PPP5/8IgnuyMh30v5bcp8u4Ed5kfIonmagOktdQudZSvkU5e9CNwjFR4Fy2WTIkCHh1FNP7XT576iCj0Bo3FlfSlHRWA9qbZMHlS3vKIovtnQlj+ueyIM66aST7P8h4UbF4uVL1qxXjj3y0KnwIwCSV2GAeOL0zS7HCPYXTjzxRLtWyzGMKjHHJiuuuKKZlTag88x+yX777WdHjpKPDodvlTmGIy9ebqCRaaaTB/5pxJSpwio8z+Rv//33Ty4YyZ1vyfmqjmuL8k++kYljIMofe9bNjNpy4y48YfQhDXG2lJhoSYOw9qQotQ6MFc8O6NlFjI3C7IqCq65cAPCwviRtv15CgXSQGzrX+NgVJh/pdTz4cGm4sOO/FU/j1+WAbFz48d9vsyPMbrrKi7Sly1wvCqd0eebbdtbsekZRXqi0f96hP8aRO++bi0MqL9bxUK2MiqLF3UV7EV+Y6fHlm+5/xI2LJYcffrh9sSV/abBHxfeQ6ChIm7NgJ5Upup8OAqMx/xWB3V1GBOTRKCodNFrEimkfqPBRCrMIoRFKYE7nJe8Zv1JMBWUGLmwwQuuaLnB6wc8i8eEMICdxSd50vPWiMJSN/tULcZPHq666yi5LIIPsgVEcOfVpKX6Rg2k/H7pQXiybupOyATeAGgA/dMDPCsVRxZ6BzRnWpTQu+UuDvSqLzHqmwnlzFkxf+ayT228e7qwjj/57ArfDWD+mFfd0uc/OlJDOh5tqdAqarlNZkcs3Gv8sO37Anakl4E44uXlwA8qLKScNGL8oyoujKN8ZqUykK06lnaUUH0hWlSsdGtNe0vHwTHlpKUOnSPnwo/RsENLA+T6d8qKzo7wGDx4cZp555qCfmQLSajVlA24AVRQ2XmgA+l4TexoGmyWs9fLwlUvPQpUdvFlpAiMZv1W27LLL2rPiIV1+J0zhkIV1K3J6RUOiwSqcYO0OCo87ZvlL61yZZWNL4Ff+5QeQnfRImwbAyCy/rEn53tx/HKMGKRRfNaX4fFnKTEcGdBaAf4hLBrsnoOvC7FRTXpMmTTJ5CYeZNXhcDiThQKMzkG7LiZkraQDWbvxMq9aAWiexjuRnXXlmzdQoxBMrs+lKg5turOe0xhSccyJP2r4axE1eWPPpww+fVhaEqRXFQxpUO7/OBq5RUo48Izd6PfFXQ/HoVp4vF9a57CEgD2lKHsBM+bI+9ig+8sJa3l9bbTXd0GW0D+za8pNAjLzpaSywDua4RGvkRlHPHyuW7T7zSyJ8ujnV5fbIRx99ZLvb7JDqLDEL7OXGaM6UkY8v2KllGqkRJVZY07NQHKSTB+7IzvT17LPPtuMjzst9vCwHiOOmm26y22QaRSVfI3Dbijxxa40daK3JgRGVaTCzFt6VH0WRidkLfoRkIi98DMEM6OKLL7ZZRXdQHiM1AC+Ns0N+nYQXT4VUBWDqFUcV+6op66d86kUVh/iZbtI4+XUU//MtcqdycVECuZgW0jDYeJFs+KNBKQzmp556yn7yleuMmkJzPEKecFfn4cGNzsRvUimNNPjlizDi1iYSKBzxdHR02LqYIyzs9OUN5qz0a0XlxVQ//bM0xMsUmekxx2e+M0RmOjKm9X55BNjTMau8WELQieflvyjKBtwkKEYULzBd6VVRphfF7eMUqlCkix/wfnCXWzqs/EOWfFnxeXzcgJ5XgeVXpMPQyajx+PJLh2sEpeHTVgfkwZ60pYNkEt7cnZQNuAn4F+1fvrdv9IX7CpQVl6/omKGWNPGTJb9vUN7dk84jZPlLozDKE8+SHbOoJa5aUDpKk7S83OnyQk/nC7Dz9t49y38rKBtwSUkvpjlzk5KSkm6hbMAlJb2YsgGXlPRiygZcUtKLKRtwSUmvJYR/Afv/a9lcDlUmAAAAAElFTkSuQmCC)"
      ],
      "metadata": {
        "id": "hePSAw3dPqWe"
      }
    },
    {
      "cell_type": "markdown",
      "metadata": {
        "id": "G_3LXyWb4dMk"
      },
      "source": [
        "# **Elementos Basicos III - PYTHON**\n",
        "\n",
        "## **3.1.  Instalación de librerias**\n",
        "\n",
        "Las *«librerías»* o *«bibliotecas»* son colecciones de funciones, clases y métodos predefinidos que extienden la funcionalidad básica del lenguaje."
      ]
    },
    {
      "cell_type": "markdown",
      "source": [
        "**3.1.1. Modulo `statisitic`.**\n",
        "\n",
        "La Libreria `statisitic`, es un módulo basico que proporciona funciones para calcular estadísticas matemáticas de Realdatos numéricos (valorados)."
      ],
      "metadata": {
        "id": "IC_fnaLlhgb7"
      }
    },
    {
      "cell_type": "code",
      "source": [
        "# Instalamos la libreria statistics\n",
        "\n",
        "# !pip install statistics\n",
        "\n",
        "#PD: El Google Colab, ya esta instalada por lo cual no es necesario realizar este proceso"
      ],
      "metadata": {
        "id": "QuhTwZq4e6Sm"
      },
      "execution_count": null,
      "outputs": []
    },
    {
      "cell_type": "markdown",
      "source": [
        "**3.1.2. Activación de la libreria `statisitic`**\n",
        "\n",
        "La Libreria `statisitic` tiene las siguientes funciones, las cuales se deben importar para poderlas usar:\n",
        "\n",
        "  *   **mean()** :Media aritmética («promedio») de los datos.\n",
        "  *   **fmean()** :Media aritmética rápida en coma flotante, con ponderación opcional.\n",
        "  *   **geometric_mean()** :Media geométrica de los datos.\n",
        "  *   **harmonic_mean()** :Media armónica de los datos.\n",
        "  *   **median()** :Mediana (valor central) de los datos.\n",
        "  *   **median_low()** :Mediana baja de los datos.\n",
        "  *   **median_high()** :Mediana alta de los datos.\n",
        "  *   **median_grouped()** :Mediana (percentil 50) de datos agrupados.\n",
        "  *   **mode()** :Moda única (valor más común) de datos discretos o nominales.\n",
        "  *   **multimode()**:Lista de modas (valores más comunes) de datos discretos o nominales.\n",
        "  *   **quantiles()** :Divide los datos en intervalos equiprobables.\n"
      ],
      "metadata": {
        "id": "Yko3KCk0e7wG"
      }
    },
    {
      "cell_type": "code",
      "source": [
        "from statistics import mean, median, mode"
      ],
      "metadata": {
        "id": "orpeiyDBfCVG"
      },
      "execution_count": null,
      "outputs": []
    },
    {
      "cell_type": "markdown",
      "source": [
        "Creamos el conjunto de datos\n",
        "3, 1, 1, 9, 3, 8, 8, 5, 3, 7"
      ],
      "metadata": {
        "id": "mgxgBh42gGHL"
      }
    },
    {
      "cell_type": "code",
      "source": [
        "datos = [3, 1, 1, 9, 3, 8, 8, 5, 3, 7]\n",
        "datos"
      ],
      "metadata": {
        "id": "PxUfyAE6gEWu",
        "colab": {
          "base_uri": "https://localhost:8080/"
        },
        "outputId": "9a35f52d-c6bd-4422-895c-a3224bcd9cd1"
      },
      "execution_count": null,
      "outputs": [
        {
          "output_type": "execute_result",
          "data": {
            "text/plain": [
              "[3, 1, 1, 9, 3, 8, 8, 5, 3, 7]"
            ]
          },
          "metadata": {},
          "execution_count": 17
        }
      ]
    },
    {
      "cell_type": "code",
      "source": [
        "# Para obtener la media, se realiza:\n",
        "mean(datos)"
      ],
      "metadata": {
        "id": "RHuxda8ogrR1",
        "colab": {
          "base_uri": "https://localhost:8080/"
        },
        "outputId": "a060f47f-f678-4cb2-e86f-ef257d3f28d9"
      },
      "execution_count": null,
      "outputs": [
        {
          "output_type": "execute_result",
          "data": {
            "text/plain": [
              "4.8"
            ]
          },
          "metadata": {},
          "execution_count": 18
        }
      ]
    },
    {
      "cell_type": "code",
      "source": [
        "# Para obtener la mediana, se realiza:\n",
        "median(datos)"
      ],
      "metadata": {
        "id": "_ijB50KNgda6",
        "colab": {
          "base_uri": "https://localhost:8080/"
        },
        "outputId": "4397aa01-a62d-4af1-c8b5-ee307f6bab98"
      },
      "execution_count": null,
      "outputs": [
        {
          "output_type": "execute_result",
          "data": {
            "text/plain": [
              "4.0"
            ]
          },
          "metadata": {},
          "execution_count": 19
        }
      ]
    },
    {
      "cell_type": "code",
      "source": [
        "# Para obtener la moda, se realiza:\n",
        "mode(datos)"
      ],
      "metadata": {
        "id": "891fm025gwdp",
        "colab": {
          "base_uri": "https://localhost:8080/"
        },
        "outputId": "8d7f23ce-6783-44c4-8039-fc4f0d58a562"
      },
      "execution_count": null,
      "outputs": [
        {
          "output_type": "execute_result",
          "data": {
            "text/plain": [
              "3"
            ]
          },
          "metadata": {},
          "execution_count": 20
        }
      ]
    },
    {
      "cell_type": "markdown",
      "source": [
        "**3.2.1. Otros Modulos Estadisticos o Matematicos de uso comun**\n",
        "\n",
        "*  La Libreria `numpy`, es una librería de Python especializada en el cálculo numérico y el análisis de datos, especialmente para un gran volumen de datos.\n",
        "*  La Libreria `math`, proporciona acceso a las funciones matemáticas definidas, estas funciones no pueden ser usadas con números complejo.\n",
        "*  La Libreria `pandas`, es una librería de Python especializada en el manejo y análisis de estructuras de datos.\n",
        "*  La Libreria `scipy`, es una librería de Python para matemáticas, ciencias e ingeniería que proporciona módulos para optimización, álgebra lineal, integración, interpolación y otras tareas científicas y de ingeniería."
      ],
      "metadata": {
        "id": "cTvdYtwCpPKH"
      }
    },
    {
      "cell_type": "code",
      "source": [
        "# Instalamos las librerias\n",
        "\n",
        "# !pip install numpy\n",
        "# !pip install scipy\n",
        "# !pip install pandas\n",
        "\n",
        "#PD: El Google Colab, ya están instaladas por lo cual no es necesario realizar este proceso"
      ],
      "metadata": {
        "id": "In_kQcUYsTfl"
      },
      "execution_count": null,
      "outputs": []
    },
    {
      "cell_type": "markdown",
      "metadata": {
        "id": "qKBaiyrwFnsv"
      },
      "source": [
        "**3.2.2. Activación de las librerias**"
      ]
    },
    {
      "cell_type": "code",
      "execution_count": null,
      "metadata": {
        "id": "gB0VRAJ31wfd"
      },
      "outputs": [],
      "source": [
        "import numpy as np # importa la libreria numpy y la apoda np\n",
        "from scipy import stats # de la libreria scipy importa los elementos del modulo estadistico scipy.stats\n",
        "import pandas as pd # importa la libreria pandas y la apoda pd"
      ]
    },
    {
      "cell_type": "code",
      "execution_count": null,
      "metadata": {
        "colab": {
          "base_uri": "https://localhost:8080/"
        },
        "id": "CiV9gPYnOiSL",
        "outputId": "08cadfe4-a862-4382-d15f-0751a48556f9"
      },
      "outputs": [
        {
          "output_type": "execute_result",
          "data": {
            "text/plain": [
              "[3, 1, 1, 9, 3, 8, 8, 5, 3, 7]"
            ]
          },
          "metadata": {},
          "execution_count": 22
        }
      ],
      "source": [
        "datos"
      ]
    },
    {
      "cell_type": "markdown",
      "source": [
        "**PD:** Cada libreria tiene su forma de solicitar la información.\n",
        "\n",
        "*   La libreria `statisitic`, requiere primero la función y posteriormente los datos dentro de un parentesis.\n",
        "*   Para la libreria `numpy`, requiere primero llamar la libreria, luego la función y posteriormente los datos dentro de un parentesis.\n",
        "*   La libreria `panda`, requiere primero la función y posteriormente los datos dentro de un parentesis, igual que `statisitic`."
      ],
      "metadata": {
        "id": "p5lFeC73xUaB"
      }
    },
    {
      "cell_type": "code",
      "source": [
        "np.mean(datos) # Se obtiene la  media aritmetica"
      ],
      "metadata": {
        "id": "8O_cIpqtxNZD",
        "colab": {
          "base_uri": "https://localhost:8080/"
        },
        "outputId": "b14a684b-baea-4834-a083-62ad3e64406b"
      },
      "execution_count": null,
      "outputs": [
        {
          "output_type": "execute_result",
          "data": {
            "text/plain": [
              "4.8"
            ]
          },
          "metadata": {},
          "execution_count": 23
        }
      ]
    },
    {
      "cell_type": "code",
      "execution_count": null,
      "metadata": {
        "colab": {
          "base_uri": "https://localhost:8080/"
        },
        "id": "BzwcDiS4JhRY",
        "outputId": "6a7feab3-b694-4647-bdb6-8f124d12df82"
      },
      "outputs": [
        {
          "output_type": "execute_result",
          "data": {
            "text/plain": [
              "4.0"
            ]
          },
          "metadata": {},
          "execution_count": 24
        }
      ],
      "source": [
        "np.median(datos) # se obtiene la mediana"
      ]
    },
    {
      "cell_type": "code",
      "source": [
        "serie = pd.Series(datos) # convertimos los datos en un serie con Panda"
      ],
      "metadata": {
        "id": "QbaOQqg3LXSV"
      },
      "execution_count": null,
      "outputs": []
    },
    {
      "cell_type": "code",
      "execution_count": null,
      "metadata": {
        "colab": {
          "base_uri": "https://localhost:8080/"
        },
        "id": "6HD7CYF7Jn9W",
        "outputId": "9a22f897-5dae-46a5-de19-a214a312cc13"
      },
      "outputs": [
        {
          "output_type": "execute_result",
          "data": {
            "text/plain": [
              "10"
            ]
          },
          "metadata": {},
          "execution_count": 26
        }
      ],
      "source": [
        "serie.count() # Devuelve el número de elementos que no son nulos (Vacios o no numericos)"
      ]
    },
    {
      "cell_type": "code",
      "source": [
        "serie.sum()  # Realiza la suma de la serie"
      ],
      "metadata": {
        "colab": {
          "base_uri": "https://localhost:8080/"
        },
        "id": "qcteZelJMRC5",
        "outputId": "7b5e6ac1-05e4-40a8-93ee-6c5a44214044"
      },
      "execution_count": null,
      "outputs": [
        {
          "output_type": "execute_result",
          "data": {
            "text/plain": [
              "48"
            ]
          },
          "metadata": {},
          "execution_count": 27
        }
      ]
    },
    {
      "cell_type": "code",
      "source": [
        "serie.cumsum()  # Realiza la suma acumulada"
      ],
      "metadata": {
        "colab": {
          "base_uri": "https://localhost:8080/"
        },
        "id": "job2_e514tty",
        "outputId": "a3c71ef7-8bb3-43ec-e192-d8818c578866"
      },
      "execution_count": null,
      "outputs": [
        {
          "output_type": "execute_result",
          "data": {
            "text/plain": [
              "0     3\n",
              "1     4\n",
              "2     5\n",
              "3    14\n",
              "4    17\n",
              "5    25\n",
              "6    33\n",
              "7    38\n",
              "8    41\n",
              "9    48\n",
              "dtype: int64"
            ]
          },
          "metadata": {},
          "execution_count": 28
        }
      ]
    },
    {
      "cell_type": "markdown",
      "source": [
        "## **2.2. Estadígrafos de dispersión**\n",
        "\n",
        "Las medidas de dispersión se contrastan con la tendencia central, y representan el grado en que un conjunto de datos (distribución) se estira o se comprime.\n",
        "\n",
        "Las principales medidas de tendencia de disperción son:\n",
        "\n",
        "*   Desviación Estándar\n",
        "*   Rango intercuartil (IQR)\n",
        "*   Rango\n",
        "*   Diferencia absoluta media (Diferencia absoluta media de Gini)\n",
        "*   Mediana desviación absoluta (MDA)\n",
        "*   Desviación media absoluta (Desviación media)\n",
        "*   Desviación estándar de distancia"
      ],
      "metadata": {
        "id": "VMey088e5nSp"
      }
    },
    {
      "cell_type": "markdown",
      "source": [
        "**2.2.1. y 3.2.3. Funciones de estadistica con Python**"
      ],
      "metadata": {
        "id": "YV8LPHqZFx_u"
      }
    },
    {
      "cell_type": "code",
      "execution_count": null,
      "metadata": {
        "id": "D-tIfnM1Juyn"
      },
      "outputs": [],
      "source": [
        "import numpy as np"
      ]
    },
    {
      "cell_type": "code",
      "source": [
        "datos2 = np.random.randint(1,35, 100)"
      ],
      "metadata": {
        "id": "jlbflj7uD2s2"
      },
      "execution_count": null,
      "outputs": []
    },
    {
      "cell_type": "code",
      "source": [
        "datos2"
      ],
      "metadata": {
        "colab": {
          "base_uri": "https://localhost:8080/"
        },
        "id": "wKxBMOprMup5",
        "outputId": "3cda3d86-e789-4e8d-f507-2f3f8c3bc38f"
      },
      "execution_count": null,
      "outputs": [
        {
          "output_type": "execute_result",
          "data": {
            "text/plain": [
              "array([ 3, 19, 21, 12,  8, 23, 29, 24,  8, 32, 10, 22,  7, 34,  7, 19, 14,\n",
              "        6,  7, 14, 15, 30, 22,  6,  2,  5, 14, 15, 21, 11, 11, 12, 20, 34,\n",
              "        9, 28, 15, 16, 11, 21, 22, 22, 10, 14, 14, 27, 31, 19, 28, 20,  6,\n",
              "       25, 30, 26, 29,  5, 22, 22,  9,  4, 29, 23,  8, 24, 32, 17, 24, 33,\n",
              "       12, 16, 26, 28,  8, 26, 21, 18,  6, 31,  3, 21,  1, 31, 25, 12, 14,\n",
              "       20, 19, 13,  9, 10, 32, 10,  8, 31, 26, 33, 27, 33, 29, 31])"
            ]
          },
          "metadata": {},
          "execution_count": 31
        }
      ]
    },
    {
      "cell_type": "code",
      "source": [
        "np.min(datos2) # se obtiene el Valor minimo"
      ],
      "metadata": {
        "colab": {
          "base_uri": "https://localhost:8080/"
        },
        "id": "6l4elyG2EtcW",
        "outputId": "48632707-b5b2-4983-ff6f-402036aabd36"
      },
      "execution_count": null,
      "outputs": [
        {
          "output_type": "execute_result",
          "data": {
            "text/plain": [
              "1"
            ]
          },
          "metadata": {},
          "execution_count": 32
        }
      ]
    },
    {
      "cell_type": "code",
      "source": [
        "np.max(datos2) # se obtiene el Valor maximo"
      ],
      "metadata": {
        "colab": {
          "base_uri": "https://localhost:8080/"
        },
        "id": "5Vo0_TuyEum2",
        "outputId": "cc377ac2-389c-4efb-b84b-95dda35c93e7"
      },
      "execution_count": null,
      "outputs": [
        {
          "output_type": "execute_result",
          "data": {
            "text/plain": [
              "34"
            ]
          },
          "metadata": {},
          "execution_count": 33
        }
      ]
    },
    {
      "cell_type": "code",
      "source": [
        "np.std(datos2) # se obtiene la Desviación típica"
      ],
      "metadata": {
        "colab": {
          "base_uri": "https://localhost:8080/"
        },
        "id": "TDx3fUk7D_9g",
        "outputId": "7518bb4f-2743-4c8e-a71a-6a40dac37bef"
      },
      "execution_count": null,
      "outputs": [
        {
          "output_type": "execute_result",
          "data": {
            "text/plain": [
              "9.176251958179876"
            ]
          },
          "metadata": {},
          "execution_count": 34
        }
      ]
    },
    {
      "cell_type": "code",
      "source": [
        "np.var(datos2) # se obtiene la Varianza"
      ],
      "metadata": {
        "colab": {
          "base_uri": "https://localhost:8080/"
        },
        "id": "ExZ3Z-ebEHvH",
        "outputId": "6b392ae6-b8d3-44f1-a42f-bd2c3aa90317"
      },
      "execution_count": null,
      "outputs": [
        {
          "output_type": "execute_result",
          "data": {
            "text/plain": [
              "84.2036"
            ]
          },
          "metadata": {},
          "execution_count": 35
        }
      ]
    },
    {
      "cell_type": "code",
      "source": [
        "np.corrcoef(datos2) # se obtiene el coeficiente de correlación"
      ],
      "metadata": {
        "colab": {
          "base_uri": "https://localhost:8080/"
        },
        "id": "2O2-yE3KERhr",
        "outputId": "d71ed085-af1c-45d4-d2e0-cdb713959018"
      },
      "execution_count": null,
      "outputs": [
        {
          "output_type": "execute_result",
          "data": {
            "text/plain": [
              "1.0"
            ]
          },
          "metadata": {},
          "execution_count": 36
        }
      ]
    },
    {
      "cell_type": "markdown",
      "metadata": {
        "id": "yjU6UImiLqkw"
      },
      "source": [
        "# **2.3. Tabla de frecuencias**"
      ]
    },
    {
      "cell_type": "code",
      "execution_count": null,
      "metadata": {
        "id": "TLA53zHsLG8v"
      },
      "outputs": [],
      "source": [
        "# se obtiene 150 dotos aleatorios, los valores estan entre 20 y 80\n",
        "\n",
        "datos3 = np.random.randint(20,80, 150)"
      ]
    },
    {
      "cell_type": "code",
      "execution_count": null,
      "metadata": {
        "colab": {
          "base_uri": "https://localhost:8080/"
        },
        "id": "DU4FnJH4LaP3",
        "outputId": "89364482-c63a-4cad-fc0f-f51fdf2cae78"
      },
      "outputs": [
        {
          "output_type": "execute_result",
          "data": {
            "text/plain": [
              "array([50, 73, 70, 30, 46, 73, 24, 24, 30, 79, 22, 33, 65, 29, 64, 21, 69,\n",
              "       25, 77, 48, 69, 70, 55, 73, 34, 38, 57, 75, 72, 77, 57, 71, 58, 55,\n",
              "       29, 45, 25, 51, 76, 60, 64, 58, 29, 61, 31, 50, 54, 70, 45, 69, 23,\n",
              "       30, 43, 65, 32, 62, 21, 73, 66, 76, 39, 30, 51, 38, 49, 36, 63, 59,\n",
              "       79, 71, 43, 42, 37, 62, 55, 47, 51, 70, 44, 70, 62, 43, 27, 32, 64,\n",
              "       70, 76, 79, 73, 25, 25, 75, 78, 38, 68, 71, 52, 24, 62, 27, 63, 26,\n",
              "       79, 66, 53, 36, 56, 45, 62, 57, 52, 62, 63, 35, 40, 20, 56, 45, 66,\n",
              "       36, 43, 75, 53, 49, 68, 50, 78, 21, 22, 58, 77, 69, 20, 72, 32, 46,\n",
              "       78, 54, 23, 23, 63, 23, 63, 28, 23, 31, 60, 65, 54, 76])"
            ]
          },
          "metadata": {},
          "execution_count": 39
        }
      ],
      "source": [
        "datos3"
      ]
    },
    {
      "cell_type": "code",
      "execution_count": null,
      "metadata": {
        "colab": {
          "base_uri": "https://localhost:8080/"
        },
        "id": "HNMiY-YbLunI",
        "outputId": "4cad1bb6-3e61-4735-e0d6-67a55cfe7f41"
      },
      "outputs": [
        {
          "output_type": "stream",
          "name": "stdout",
          "text": [
            "La Cantidad de datos es: 150\n",
            "Valor Minimo: 20 y maximo 79\n",
            "[50 73 70 30 46 73 24 24 30 79 22 33 65 29 64 21 69 25 77 48 69 70 55 73\n",
            " 34 38 57 75 72 77 57 71 58 55 29 45 25 51 76 60 64 58 29 61 31 50 54 70\n",
            " 45 69 23 30 43 65 32 62 21 73 66 76 39 30 51 38 49 36 63 59 79 71 43 42\n",
            " 37 62 55 47 51 70 44 70 62 43 27 32 64 70 76 79 73 25 25 75 78 38 68 71\n",
            " 52 24 62 27 63 26 79 66 53 36 56 45 62 57 52 62 63 35 40 20 56 45 66 36\n",
            " 43 75 53 49 68 50 78 21 22 58 77 69 20 72 32 46 78 54 23 23 63 23 63 28\n",
            " 23 31 60 65 54 76]\n"
          ]
        }
      ],
      "source": [
        "CANT = datos3.size\n",
        "MIN = np.min(datos3)\n",
        "MAX = np.max(datos3)\n",
        "\n",
        "print(\"La Cantidad de datos es:\", CANT)\n",
        "print(f\"Valor Minimo: {MIN} y maximo {MAX}\")\n",
        "print(datos3)"
      ]
    },
    {
      "cell_type": "code",
      "execution_count": null,
      "metadata": {
        "id": "eO7C4y8QMRXq"
      },
      "outputs": [],
      "source": [
        "import math"
      ]
    },
    {
      "cell_type": "code",
      "source": [
        "#numero de intervalos dde clase\n",
        "int_clase = np.round(np.sqrt(datos3.size))\n",
        "#amplitud\n",
        "amp_clase = np.around(((MAX-MIN)/int_clase), decimals=1)\n",
        "amp_clase = math.modf(amp_clase)[1] + 1\n",
        "print(\"El intervalo de clase es:\",int_clase)\n",
        "print(\"La amplitud de clase es:\",amp_clase)"
      ],
      "metadata": {
        "colab": {
          "base_uri": "https://localhost:8080/"
        },
        "id": "1O0U74UkP1zA",
        "outputId": "0b173f56-3210-427b-88d6-b95f35bb6241"
      },
      "execution_count": null,
      "outputs": [
        {
          "output_type": "stream",
          "name": "stdout",
          "text": [
            "El intervalo de clase es: 12.0\n",
            "La amplitud de clase es: 5.0\n"
          ]
        }
      ]
    },
    {
      "cell_type": "code",
      "source": [
        "tabla_frecuencias = pd.DataFrame(columns=[\"LimInf\", \"LimSup\", \"FreqAbs\"])\n",
        "\n",
        "limites = np.arange(MIN, MAX + amp_clase, amp_clase) #sumamos la amplitud, solo para tener mas valores de los esperados\n",
        "lim_inf = limites[:int(int_clase)]\n",
        "lim_sup = limites[1:int(int_clase)+1]\n",
        "\n",
        "tabla_frecuencias[\"LimInf\"] = lim_inf\n",
        "tabla_frecuencias[\"LimSup\"] = lim_sup\n",
        "tabla_frecuencias[\"FreqAbs\"] = np.array([np.sum((datos3 >= lim_inf[n]) & (datos3 < lim_sup[n])) for n in range(lim_inf.size)]) #[LimInf - LimSup)\n",
        "tabla_frecuencias"
      ],
      "metadata": {
        "colab": {
          "base_uri": "https://localhost:8080/",
          "height": 425
        },
        "id": "1_wSAzH46k1j",
        "outputId": "96e86a3a-6910-47ae-95b1-80550cf66a28"
      },
      "execution_count": null,
      "outputs": [
        {
          "output_type": "execute_result",
          "data": {
            "text/plain": [
              "    LimInf  LimSup  FreqAbs\n",
              "0     20.0    25.0       15\n",
              "1     25.0    30.0       11\n",
              "2     30.0    35.0       11\n",
              "3     35.0    40.0        9\n",
              "4     40.0    45.0        7\n",
              "5     45.0    50.0       10\n",
              "6     50.0    55.0       13\n",
              "7     55.0    60.0       12\n",
              "8     60.0    65.0       17\n",
              "9     65.0    70.0       12\n",
              "10    70.0    75.0       16\n",
              "11    75.0    80.0       17"
            ],
            "text/html": [
              "\n",
              "  <div id=\"df-a691a994-27c0-4b5e-b45a-92ab37fa886f\" class=\"colab-df-container\">\n",
              "    <div>\n",
              "<style scoped>\n",
              "    .dataframe tbody tr th:only-of-type {\n",
              "        vertical-align: middle;\n",
              "    }\n",
              "\n",
              "    .dataframe tbody tr th {\n",
              "        vertical-align: top;\n",
              "    }\n",
              "\n",
              "    .dataframe thead th {\n",
              "        text-align: right;\n",
              "    }\n",
              "</style>\n",
              "<table border=\"1\" class=\"dataframe\">\n",
              "  <thead>\n",
              "    <tr style=\"text-align: right;\">\n",
              "      <th></th>\n",
              "      <th>LimInf</th>\n",
              "      <th>LimSup</th>\n",
              "      <th>FreqAbs</th>\n",
              "    </tr>\n",
              "  </thead>\n",
              "  <tbody>\n",
              "    <tr>\n",
              "      <th>0</th>\n",
              "      <td>20.0</td>\n",
              "      <td>25.0</td>\n",
              "      <td>15</td>\n",
              "    </tr>\n",
              "    <tr>\n",
              "      <th>1</th>\n",
              "      <td>25.0</td>\n",
              "      <td>30.0</td>\n",
              "      <td>11</td>\n",
              "    </tr>\n",
              "    <tr>\n",
              "      <th>2</th>\n",
              "      <td>30.0</td>\n",
              "      <td>35.0</td>\n",
              "      <td>11</td>\n",
              "    </tr>\n",
              "    <tr>\n",
              "      <th>3</th>\n",
              "      <td>35.0</td>\n",
              "      <td>40.0</td>\n",
              "      <td>9</td>\n",
              "    </tr>\n",
              "    <tr>\n",
              "      <th>4</th>\n",
              "      <td>40.0</td>\n",
              "      <td>45.0</td>\n",
              "      <td>7</td>\n",
              "    </tr>\n",
              "    <tr>\n",
              "      <th>5</th>\n",
              "      <td>45.0</td>\n",
              "      <td>50.0</td>\n",
              "      <td>10</td>\n",
              "    </tr>\n",
              "    <tr>\n",
              "      <th>6</th>\n",
              "      <td>50.0</td>\n",
              "      <td>55.0</td>\n",
              "      <td>13</td>\n",
              "    </tr>\n",
              "    <tr>\n",
              "      <th>7</th>\n",
              "      <td>55.0</td>\n",
              "      <td>60.0</td>\n",
              "      <td>12</td>\n",
              "    </tr>\n",
              "    <tr>\n",
              "      <th>8</th>\n",
              "      <td>60.0</td>\n",
              "      <td>65.0</td>\n",
              "      <td>17</td>\n",
              "    </tr>\n",
              "    <tr>\n",
              "      <th>9</th>\n",
              "      <td>65.0</td>\n",
              "      <td>70.0</td>\n",
              "      <td>12</td>\n",
              "    </tr>\n",
              "    <tr>\n",
              "      <th>10</th>\n",
              "      <td>70.0</td>\n",
              "      <td>75.0</td>\n",
              "      <td>16</td>\n",
              "    </tr>\n",
              "    <tr>\n",
              "      <th>11</th>\n",
              "      <td>75.0</td>\n",
              "      <td>80.0</td>\n",
              "      <td>17</td>\n",
              "    </tr>\n",
              "  </tbody>\n",
              "</table>\n",
              "</div>\n",
              "    <div class=\"colab-df-buttons\">\n",
              "\n",
              "  <div class=\"colab-df-container\">\n",
              "    <button class=\"colab-df-convert\" onclick=\"convertToInteractive('df-a691a994-27c0-4b5e-b45a-92ab37fa886f')\"\n",
              "            title=\"Convert this dataframe to an interactive table.\"\n",
              "            style=\"display:none;\">\n",
              "\n",
              "  <svg xmlns=\"http://www.w3.org/2000/svg\" height=\"24px\" viewBox=\"0 -960 960 960\">\n",
              "    <path d=\"M120-120v-720h720v720H120Zm60-500h600v-160H180v160Zm220 220h160v-160H400v160Zm0 220h160v-160H400v160ZM180-400h160v-160H180v160Zm440 0h160v-160H620v160ZM180-180h160v-160H180v160Zm440 0h160v-160H620v160Z\"/>\n",
              "  </svg>\n",
              "    </button>\n",
              "\n",
              "  <style>\n",
              "    .colab-df-container {\n",
              "      display:flex;\n",
              "      gap: 12px;\n",
              "    }\n",
              "\n",
              "    .colab-df-convert {\n",
              "      background-color: #E8F0FE;\n",
              "      border: none;\n",
              "      border-radius: 50%;\n",
              "      cursor: pointer;\n",
              "      display: none;\n",
              "      fill: #1967D2;\n",
              "      height: 32px;\n",
              "      padding: 0 0 0 0;\n",
              "      width: 32px;\n",
              "    }\n",
              "\n",
              "    .colab-df-convert:hover {\n",
              "      background-color: #E2EBFA;\n",
              "      box-shadow: 0px 1px 2px rgba(60, 64, 67, 0.3), 0px 1px 3px 1px rgba(60, 64, 67, 0.15);\n",
              "      fill: #174EA6;\n",
              "    }\n",
              "\n",
              "    .colab-df-buttons div {\n",
              "      margin-bottom: 4px;\n",
              "    }\n",
              "\n",
              "    [theme=dark] .colab-df-convert {\n",
              "      background-color: #3B4455;\n",
              "      fill: #D2E3FC;\n",
              "    }\n",
              "\n",
              "    [theme=dark] .colab-df-convert:hover {\n",
              "      background-color: #434B5C;\n",
              "      box-shadow: 0px 1px 3px 1px rgba(0, 0, 0, 0.15);\n",
              "      filter: drop-shadow(0px 1px 2px rgba(0, 0, 0, 0.3));\n",
              "      fill: #FFFFFF;\n",
              "    }\n",
              "  </style>\n",
              "\n",
              "    <script>\n",
              "      const buttonEl =\n",
              "        document.querySelector('#df-a691a994-27c0-4b5e-b45a-92ab37fa886f button.colab-df-convert');\n",
              "      buttonEl.style.display =\n",
              "        google.colab.kernel.accessAllowed ? 'block' : 'none';\n",
              "\n",
              "      async function convertToInteractive(key) {\n",
              "        const element = document.querySelector('#df-a691a994-27c0-4b5e-b45a-92ab37fa886f');\n",
              "        const dataTable =\n",
              "          await google.colab.kernel.invokeFunction('convertToInteractive',\n",
              "                                                    [key], {});\n",
              "        if (!dataTable) return;\n",
              "\n",
              "        const docLinkHtml = 'Like what you see? Visit the ' +\n",
              "          '<a target=\"_blank\" href=https://colab.research.google.com/notebooks/data_table.ipynb>data table notebook</a>'\n",
              "          + ' to learn more about interactive tables.';\n",
              "        element.innerHTML = '';\n",
              "        dataTable['output_type'] = 'display_data';\n",
              "        await google.colab.output.renderOutput(dataTable, element);\n",
              "        const docLink = document.createElement('div');\n",
              "        docLink.innerHTML = docLinkHtml;\n",
              "        element.appendChild(docLink);\n",
              "      }\n",
              "    </script>\n",
              "  </div>\n",
              "\n",
              "\n",
              "<div id=\"df-a617ea4a-2637-454a-a411-8b2ab751eddb\">\n",
              "  <button class=\"colab-df-quickchart\" onclick=\"quickchart('df-a617ea4a-2637-454a-a411-8b2ab751eddb')\"\n",
              "            title=\"Suggest charts\"\n",
              "            style=\"display:none;\">\n",
              "\n",
              "<svg xmlns=\"http://www.w3.org/2000/svg\" height=\"24px\"viewBox=\"0 0 24 24\"\n",
              "     width=\"24px\">\n",
              "    <g>\n",
              "        <path d=\"M19 3H5c-1.1 0-2 .9-2 2v14c0 1.1.9 2 2 2h14c1.1 0 2-.9 2-2V5c0-1.1-.9-2-2-2zM9 17H7v-7h2v7zm4 0h-2V7h2v10zm4 0h-2v-4h2v4z\"/>\n",
              "    </g>\n",
              "</svg>\n",
              "  </button>\n",
              "\n",
              "<style>\n",
              "  .colab-df-quickchart {\n",
              "      --bg-color: #E8F0FE;\n",
              "      --fill-color: #1967D2;\n",
              "      --hover-bg-color: #E2EBFA;\n",
              "      --hover-fill-color: #174EA6;\n",
              "      --disabled-fill-color: #AAA;\n",
              "      --disabled-bg-color: #DDD;\n",
              "  }\n",
              "\n",
              "  [theme=dark] .colab-df-quickchart {\n",
              "      --bg-color: #3B4455;\n",
              "      --fill-color: #D2E3FC;\n",
              "      --hover-bg-color: #434B5C;\n",
              "      --hover-fill-color: #FFFFFF;\n",
              "      --disabled-bg-color: #3B4455;\n",
              "      --disabled-fill-color: #666;\n",
              "  }\n",
              "\n",
              "  .colab-df-quickchart {\n",
              "    background-color: var(--bg-color);\n",
              "    border: none;\n",
              "    border-radius: 50%;\n",
              "    cursor: pointer;\n",
              "    display: none;\n",
              "    fill: var(--fill-color);\n",
              "    height: 32px;\n",
              "    padding: 0;\n",
              "    width: 32px;\n",
              "  }\n",
              "\n",
              "  .colab-df-quickchart:hover {\n",
              "    background-color: var(--hover-bg-color);\n",
              "    box-shadow: 0 1px 2px rgba(60, 64, 67, 0.3), 0 1px 3px 1px rgba(60, 64, 67, 0.15);\n",
              "    fill: var(--button-hover-fill-color);\n",
              "  }\n",
              "\n",
              "  .colab-df-quickchart-complete:disabled,\n",
              "  .colab-df-quickchart-complete:disabled:hover {\n",
              "    background-color: var(--disabled-bg-color);\n",
              "    fill: var(--disabled-fill-color);\n",
              "    box-shadow: none;\n",
              "  }\n",
              "\n",
              "  .colab-df-spinner {\n",
              "    border: 2px solid var(--fill-color);\n",
              "    border-color: transparent;\n",
              "    border-bottom-color: var(--fill-color);\n",
              "    animation:\n",
              "      spin 1s steps(1) infinite;\n",
              "  }\n",
              "\n",
              "  @keyframes spin {\n",
              "    0% {\n",
              "      border-color: transparent;\n",
              "      border-bottom-color: var(--fill-color);\n",
              "      border-left-color: var(--fill-color);\n",
              "    }\n",
              "    20% {\n",
              "      border-color: transparent;\n",
              "      border-left-color: var(--fill-color);\n",
              "      border-top-color: var(--fill-color);\n",
              "    }\n",
              "    30% {\n",
              "      border-color: transparent;\n",
              "      border-left-color: var(--fill-color);\n",
              "      border-top-color: var(--fill-color);\n",
              "      border-right-color: var(--fill-color);\n",
              "    }\n",
              "    40% {\n",
              "      border-color: transparent;\n",
              "      border-right-color: var(--fill-color);\n",
              "      border-top-color: var(--fill-color);\n",
              "    }\n",
              "    60% {\n",
              "      border-color: transparent;\n",
              "      border-right-color: var(--fill-color);\n",
              "    }\n",
              "    80% {\n",
              "      border-color: transparent;\n",
              "      border-right-color: var(--fill-color);\n",
              "      border-bottom-color: var(--fill-color);\n",
              "    }\n",
              "    90% {\n",
              "      border-color: transparent;\n",
              "      border-bottom-color: var(--fill-color);\n",
              "    }\n",
              "  }\n",
              "</style>\n",
              "\n",
              "  <script>\n",
              "    async function quickchart(key) {\n",
              "      const quickchartButtonEl =\n",
              "        document.querySelector('#' + key + ' button');\n",
              "      quickchartButtonEl.disabled = true;  // To prevent multiple clicks.\n",
              "      quickchartButtonEl.classList.add('colab-df-spinner');\n",
              "      try {\n",
              "        const charts = await google.colab.kernel.invokeFunction(\n",
              "            'suggestCharts', [key], {});\n",
              "      } catch (error) {\n",
              "        console.error('Error during call to suggestCharts:', error);\n",
              "      }\n",
              "      quickchartButtonEl.classList.remove('colab-df-spinner');\n",
              "      quickchartButtonEl.classList.add('colab-df-quickchart-complete');\n",
              "    }\n",
              "    (() => {\n",
              "      let quickchartButtonEl =\n",
              "        document.querySelector('#df-a617ea4a-2637-454a-a411-8b2ab751eddb button');\n",
              "      quickchartButtonEl.style.display =\n",
              "        google.colab.kernel.accessAllowed ? 'block' : 'none';\n",
              "    })();\n",
              "  </script>\n",
              "</div>\n",
              "\n",
              "  <div id=\"id_d8ef706c-f151-4f94-90e3-6ffb1fb67421\">\n",
              "    <style>\n",
              "      .colab-df-generate {\n",
              "        background-color: #E8F0FE;\n",
              "        border: none;\n",
              "        border-radius: 50%;\n",
              "        cursor: pointer;\n",
              "        display: none;\n",
              "        fill: #1967D2;\n",
              "        height: 32px;\n",
              "        padding: 0 0 0 0;\n",
              "        width: 32px;\n",
              "      }\n",
              "\n",
              "      .colab-df-generate:hover {\n",
              "        background-color: #E2EBFA;\n",
              "        box-shadow: 0px 1px 2px rgba(60, 64, 67, 0.3), 0px 1px 3px 1px rgba(60, 64, 67, 0.15);\n",
              "        fill: #174EA6;\n",
              "      }\n",
              "\n",
              "      [theme=dark] .colab-df-generate {\n",
              "        background-color: #3B4455;\n",
              "        fill: #D2E3FC;\n",
              "      }\n",
              "\n",
              "      [theme=dark] .colab-df-generate:hover {\n",
              "        background-color: #434B5C;\n",
              "        box-shadow: 0px 1px 3px 1px rgba(0, 0, 0, 0.15);\n",
              "        filter: drop-shadow(0px 1px 2px rgba(0, 0, 0, 0.3));\n",
              "        fill: #FFFFFF;\n",
              "      }\n",
              "    </style>\n",
              "    <button class=\"colab-df-generate\" onclick=\"generateWithVariable('tabla_frecuencias')\"\n",
              "            title=\"Generate code using this dataframe.\"\n",
              "            style=\"display:none;\">\n",
              "\n",
              "  <svg xmlns=\"http://www.w3.org/2000/svg\" height=\"24px\"viewBox=\"0 0 24 24\"\n",
              "       width=\"24px\">\n",
              "    <path d=\"M7,19H8.4L18.45,9,17,7.55,7,17.6ZM5,21V16.75L18.45,3.32a2,2,0,0,1,2.83,0l1.4,1.43a1.91,1.91,0,0,1,.58,1.4,1.91,1.91,0,0,1-.58,1.4L9.25,21ZM18.45,9,17,7.55Zm-12,3A5.31,5.31,0,0,0,4.9,8.1,5.31,5.31,0,0,0,1,6.5,5.31,5.31,0,0,0,4.9,4.9,5.31,5.31,0,0,0,6.5,1,5.31,5.31,0,0,0,8.1,4.9,5.31,5.31,0,0,0,12,6.5,5.46,5.46,0,0,0,6.5,12Z\"/>\n",
              "  </svg>\n",
              "    </button>\n",
              "    <script>\n",
              "      (() => {\n",
              "      const buttonEl =\n",
              "        document.querySelector('#id_d8ef706c-f151-4f94-90e3-6ffb1fb67421 button.colab-df-generate');\n",
              "      buttonEl.style.display =\n",
              "        google.colab.kernel.accessAllowed ? 'block' : 'none';\n",
              "\n",
              "      buttonEl.onclick = () => {\n",
              "        google.colab.notebook.generateWithVariable('tabla_frecuencias');\n",
              "      }\n",
              "      })();\n",
              "    </script>\n",
              "  </div>\n",
              "\n",
              "    </div>\n",
              "  </div>\n"
            ],
            "application/vnd.google.colaboratory.intrinsic+json": {
              "type": "dataframe",
              "variable_name": "tabla_frecuencias",
              "summary": "{\n  \"name\": \"tabla_frecuencias\",\n  \"rows\": 12,\n  \"fields\": [\n    {\n      \"column\": \"LimInf\",\n      \"properties\": {\n        \"dtype\": \"number\",\n        \"std\": 18.027756377319946,\n        \"min\": 20.0,\n        \"max\": 75.0,\n        \"num_unique_values\": 12,\n        \"samples\": [\n          70.0,\n          65.0,\n          20.0\n        ],\n        \"semantic_type\": \"\",\n        \"description\": \"\"\n      }\n    },\n    {\n      \"column\": \"LimSup\",\n      \"properties\": {\n        \"dtype\": \"number\",\n        \"std\": 18.027756377319946,\n        \"min\": 25.0,\n        \"max\": 80.0,\n        \"num_unique_values\": 12,\n        \"samples\": [\n          75.0,\n          70.0,\n          25.0\n        ],\n        \"semantic_type\": \"\",\n        \"description\": \"\"\n      }\n    },\n    {\n      \"column\": \"FreqAbs\",\n      \"properties\": {\n        \"dtype\": \"number\",\n        \"std\": 3,\n        \"min\": 7,\n        \"max\": 17,\n        \"num_unique_values\": 9,\n        \"samples\": [\n          17,\n          11,\n          13\n        ],\n        \"semantic_type\": \"\",\n        \"description\": \"\"\n      }\n    }\n  ]\n}"
            }
          },
          "metadata": {},
          "execution_count": 44
        }
      ]
    },
    {
      "cell_type": "markdown",
      "source": [
        "## **2.4. Graficos de frecuencias**"
      ],
      "metadata": {
        "id": "YQg1zUahRCSG"
      }
    },
    {
      "cell_type": "code",
      "source": [
        "# Importar la libreria pyplot\n",
        "from matplotlib import pyplot as plt"
      ],
      "metadata": {
        "id": "JxgLRa4mRBlu"
      },
      "execution_count": null,
      "outputs": []
    },
    {
      "cell_type": "code",
      "source": [
        "tabla_frecuencias['FreqAbs'].plot(kind='hist', bins=20, title='Frecuencias Absolutas')\n",
        "plt.ylabel('Cantidad de Datos')\n",
        "plt.xlabel('Frecuencias Absolutas')\n",
        "plt.gca().spines[['top', 'right',]].set_visible(False)"
      ],
      "metadata": {
        "colab": {
          "base_uri": "https://localhost:8080/",
          "height": 472
        },
        "id": "CSj9JteaRJzv",
        "outputId": "7ebfe154-8afb-4541-a76a-9e4e294f3e30"
      },
      "execution_count": null,
      "outputs": [
        {
          "output_type": "display_data",
          "data": {
            "text/plain": [
              "<Figure size 640x480 with 1 Axes>"
            ],
            "image/png": "[encoded data removed]"
          },
          "metadata": {}
        }
      ]
    }
  ],
  "metadata": {
    "colab": {
      "provenance": [],
      "include_colab_link": true
    },
    "kernelspec": {
      "display_name": "Python 3",
      "name": "python3"
    },
    "language_info": {
      "name": "python"
    }
  },
  "nbformat": 4,
  "nbformat_minor": 0
}